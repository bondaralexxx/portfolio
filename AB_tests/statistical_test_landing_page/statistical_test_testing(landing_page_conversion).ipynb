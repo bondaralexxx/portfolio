{
  "nbformat": 4,
  "nbformat_minor": 0,
  "metadata": {
    "colab": {
      "provenance": []
    },
    "kernelspec": {
      "name": "python3",
      "display_name": "Python 3"
    },
    "language_info": {
      "name": "python"
    }
  },
  "cells": [
    {
      "cell_type": "code",
      "execution_count": 1,
      "metadata": {
        "id": "UQyrzEFVLER3"
      },
      "outputs": [],
      "source": [
        "import pandas as pd\n",
        "import numpy as np"
      ]
    },
    {
      "cell_type": "code",
      "source": [
        "\"https://glebmikha.github.io/ab-test-calculator-by-gleb-mikhaylov/\""
      ],
      "metadata": {
        "colab": {
          "base_uri": "https://localhost:8080/",
          "height": 36
        },
        "id": "UXOLrkfiLHLh",
        "outputId": "ef5d8d0d-de60-401f-af16-f8f934dc9bbe"
      },
      "execution_count": 2,
      "outputs": [
        {
          "output_type": "execute_result",
          "data": {
            "text/plain": [
              "'https://glebmikha.github.io/ab-test-calculator-by-gleb-mikhaylov/'"
            ],
            "application/vnd.google.colaboratory.intrinsic+json": {
              "type": "string"
            }
          },
          "metadata": {},
          "execution_count": 2
        }
      ]
    },
    {
      "cell_type": "code",
      "source": [
        "#  1 method"
      ],
      "metadata": {
        "id": "vJw4KrrLkHl9"
      },
      "execution_count": null,
      "outputs": []
    },
    {
      "cell_type": "code",
      "source": [
        "  # An old landing page, with convertion rate 3%\n",
        "  a = np.random.binomial(1,0.03,size=1484).mean()\n",
        "  # A new landing page, with convertion rate 5%\n",
        "  b = np.random.binomial(1,0.05,size=1484).mean()"
      ],
      "metadata": {
        "id": "8aldgjVcZYpG"
      },
      "execution_count": 3,
      "outputs": []
    },
    {
      "cell_type": "code",
      "source": [
        "a, b"
      ],
      "metadata": {
        "colab": {
          "base_uri": "https://localhost:8080/"
        },
        "id": "k29A5SYNaPfv",
        "outputId": "fb323828-fad8-40d4-8946-2591a5f0c4af"
      },
      "execution_count": 4,
      "outputs": [
        {
          "output_type": "execute_result",
          "data": {
            "text/plain": [
              "(0.03369272237196765, 0.05053908355795148)"
            ]
          },
          "metadata": {},
          "execution_count": 4
        }
      ]
    },
    {
      "cell_type": "code",
      "source": [
        "a*1484, b*1484"
      ],
      "metadata": {
        "colab": {
          "base_uri": "https://localhost:8080/"
        },
        "id": "97EmeeyCaUju",
        "outputId": "46a9fdf1-8c62-49d3-f078-272856235047"
      },
      "execution_count": 5,
      "outputs": [
        {
          "output_type": "execute_result",
          "data": {
            "text/plain": [
              "(49.99999999999999, 75.0)"
            ]
          },
          "metadata": {},
          "execution_count": 5
        }
      ]
    },
    {
      "cell_type": "code",
      "source": [
        "# Enter all these results into the A/B test calculator and see the results (screenshots)\n",
        "#  * The calculator is random and after reboot the numbers will change."
      ],
      "metadata": {
        "id": "wvj6Yn0erZrX"
      },
      "execution_count": 6,
      "outputs": []
    },
    {
      "cell_type": "code",
      "source": [
        "#  2 method - generating quantity of conversions"
      ],
      "metadata": {
        "id": "5KmvxnTGxK2Y"
      },
      "execution_count": 13,
      "outputs": []
    },
    {
      "cell_type": "code",
      "source": [
        "  # An old landing page, with convertion rate 3%\n",
        "  a = np.random.binomial(1484,0.03)\n",
        "  # A new landing page, with convertion rate 5%\n",
        "  b = np.random.binomial(1484,0.05)"
      ],
      "metadata": {
        "id": "RWDPy5bhkMcb"
      },
      "execution_count": 14,
      "outputs": []
    },
    {
      "cell_type": "code",
      "source": [
        "a, b"
      ],
      "metadata": {
        "colab": {
          "base_uri": "https://localhost:8080/"
        },
        "id": "YC0p4EOdkbWm",
        "outputId": "1709da9a-53f5-47d5-ae97-71298aa4c56c"
      },
      "execution_count": 15,
      "outputs": [
        {
          "output_type": "execute_result",
          "data": {
            "text/plain": [
              "(45, 88)"
            ]
          },
          "metadata": {},
          "execution_count": 15
        }
      ]
    },
    {
      "cell_type": "code",
      "source": [],
      "metadata": {
        "id": "UClZh0qypluX"
      },
      "execution_count": null,
      "outputs": []
    },
    {
      "cell_type": "code",
      "source": [
        "#  testing on a large number of virtual experiments"
      ],
      "metadata": {
        "id": "gAIYjBZDplaF"
      },
      "execution_count": null,
      "outputs": []
    },
    {
      "cell_type": "code",
      "source": [
        "from statsmodels.stats.proportion import proportions_ztest"
      ],
      "metadata": {
        "id": "i38d1vwFpbSA"
      },
      "execution_count": 18,
      "outputs": []
    },
    {
      "cell_type": "code",
      "source": [
        "def test(conv_a,conv_b,size_a,size_b,significance=0.05):\n",
        "  _, p_value = proportions_ztest([conv_a, conv_b],\n",
        "                                 [size_a, size_b],\n",
        "                                 alternative='two-sided')\n",
        "  return p_value < significance"
      ],
      "metadata": {
        "id": "GkgRymj5kebJ"
      },
      "execution_count": 19,
      "outputs": []
    },
    {
      "cell_type": "code",
      "source": [
        "test(49,52,1484,1484)"
      ],
      "metadata": {
        "colab": {
          "base_uri": "https://localhost:8080/"
        },
        "id": "e7gBCiqvpU3D",
        "outputId": "1788106a-b3c2-42f6-de91-135fb7861f0c"
      },
      "execution_count": 20,
      "outputs": [
        {
          "output_type": "execute_result",
          "data": {
            "text/plain": [
              "False"
            ]
          },
          "metadata": {},
          "execution_count": 20
        }
      ]
    },
    {
      "cell_type": "code",
      "source": [
        "test(44,78,1484,1484)"
      ],
      "metadata": {
        "colab": {
          "base_uri": "https://localhost:8080/"
        },
        "id": "9lNlF6ZWpXlX",
        "outputId": "26fbb21d-58f1-4e1d-bf52-1b1bb44012c9"
      },
      "execution_count": 21,
      "outputs": [
        {
          "output_type": "execute_result",
          "data": {
            "text/plain": [
              "True"
            ]
          },
          "metadata": {},
          "execution_count": 21
        }
      ]
    },
    {
      "cell_type": "code",
      "source": [],
      "metadata": {
        "id": "q44Eep2Cpg5n"
      },
      "execution_count": null,
      "outputs": []
    }
  ]
}