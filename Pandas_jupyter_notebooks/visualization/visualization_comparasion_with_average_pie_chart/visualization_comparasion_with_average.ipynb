{
 "cells": [
  {
   "cell_type": "code",
   "execution_count": 1,
   "id": "22a8e134-c0d4-497e-8315-f42e9b4a7022",
   "metadata": {},
   "outputs": [],
   "source": [
    "#PLOTTING A PIE CHART (COMPARASION WITH AVERAGE)"
   ]
  },
  {
   "cell_type": "code",
   "execution_count": null,
   "id": "5b1f8430-326d-4861-bbab-747611e6d07e",
   "metadata": {},
   "outputs": [],
   "source": []
  },
  {
   "cell_type": "code",
   "execution_count": 2,
   "id": "16f93fb5-4909-40b0-9c90-90c7dc1656d9",
   "metadata": {},
   "outputs": [],
   "source": [
    "# 1. IMPORTING LIBRARIES.\n",
    "\n",
    "import pandas as pd\n",
    "import matplotlib.pyplot as plt"
   ]
  },
  {
   "cell_type": "code",
   "execution_count": 3,
   "id": "97874d6e-56a9-4a4e-875d-a99200e89d37",
   "metadata": {},
   "outputs": [
    {
     "data": {
      "text/html": [
       "<div>\n",
       "<style scoped>\n",
       "    .dataframe tbody tr th:only-of-type {\n",
       "        vertical-align: middle;\n",
       "    }\n",
       "\n",
       "    .dataframe tbody tr th {\n",
       "        vertical-align: top;\n",
       "    }\n",
       "\n",
       "    .dataframe thead th {\n",
       "        text-align: right;\n",
       "    }\n",
       "</style>\n",
       "<table border=\"1\" class=\"dataframe\">\n",
       "  <thead>\n",
       "    <tr style=\"text-align: right;\">\n",
       "      <th></th>\n",
       "      <th>Open</th>\n",
       "      <th>High</th>\n",
       "      <th>Low</th>\n",
       "      <th>Close</th>\n",
       "      <th>Adj Close</th>\n",
       "      <th>Volume</th>\n",
       "    </tr>\n",
       "    <tr>\n",
       "      <th>Date</th>\n",
       "      <th></th>\n",
       "      <th></th>\n",
       "      <th></th>\n",
       "      <th></th>\n",
       "      <th></th>\n",
       "      <th></th>\n",
       "    </tr>\n",
       "  </thead>\n",
       "  <tbody>\n",
       "    <tr>\n",
       "      <th>1962-01-02</th>\n",
       "      <td>7.374124</td>\n",
       "      <td>7.374124</td>\n",
       "      <td>7.291268</td>\n",
       "      <td>7.291268</td>\n",
       "      <td>1.673325</td>\n",
       "      <td>407940</td>\n",
       "    </tr>\n",
       "    <tr>\n",
       "      <th>1962-01-03</th>\n",
       "      <td>7.291268</td>\n",
       "      <td>7.355003</td>\n",
       "      <td>7.291268</td>\n",
       "      <td>7.355003</td>\n",
       "      <td>1.687950</td>\n",
       "      <td>305955</td>\n",
       "    </tr>\n",
       "    <tr>\n",
       "      <th>1962-01-04</th>\n",
       "      <td>7.355003</td>\n",
       "      <td>7.355003</td>\n",
       "      <td>7.278521</td>\n",
       "      <td>7.281708</td>\n",
       "      <td>1.671130</td>\n",
       "      <td>274575</td>\n",
       "    </tr>\n",
       "  </tbody>\n",
       "</table>\n",
       "</div>"
      ],
      "text/plain": [
       "                Open      High       Low     Close  Adj Close  Volume\n",
       "Date                                                                 \n",
       "1962-01-02  7.374124  7.374124  7.291268  7.291268   1.673325  407940\n",
       "1962-01-03  7.291268  7.355003  7.291268  7.355003   1.687950  305955\n",
       "1962-01-04  7.355003  7.355003  7.278521  7.281708   1.671130  274575"
      ]
     },
     "execution_count": 3,
     "metadata": {},
     "output_type": "execute_result"
    }
   ],
   "source": [
    "ibm = pd.read_csv('IBM.csv', parse_dates=['Date'], index_col = 'Date')\n",
    "ibm.head(3)"
   ]
  },
  {
   "cell_type": "code",
   "execution_count": 5,
   "id": "dc0739a6-51e3-4451-a9fd-3849f0c4d638",
   "metadata": {},
   "outputs": [],
   "source": [
    "# 2. CREATING A SORT FUNCTION.\n"
   ]
  },
  {
   "cell_type": "code",
   "execution_count": 6,
   "id": "b5d32662-5aa6-4c50-a0a8-be1d0ec31e70",
   "metadata": {},
   "outputs": [
    {
     "data": {
      "text/plain": [
       "59.88789670142087"
      ]
     },
     "execution_count": 6,
     "metadata": {},
     "output_type": "execute_result"
    }
   ],
   "source": [
    "avg_close_price = ibm['Close'].mean()\n",
    "avg_close_price"
   ]
  },
  {
   "cell_type": "code",
   "execution_count": 7,
   "id": "67f8ac06-49d0-4a36-9bed-a88e994524f3",
   "metadata": {},
   "outputs": [],
   "source": [
    "def get_avg_evaluation(stock_price):\n",
    "    if stock_price >= avg_close_price:\n",
    "        return 'Above average'\n",
    "    else:\n",
    "        return 'Below average'"
   ]
  },
  {
   "cell_type": "code",
   "execution_count": 8,
   "id": "12e6df35-9bc2-4565-98f4-12177601ac68",
   "metadata": {},
   "outputs": [
    {
     "data": {
      "text/plain": [
       "Date\n",
       "1962-01-02    Below average\n",
       "1962-01-03    Below average\n",
       "1962-01-04    Below average\n",
       "1962-01-05    Below average\n",
       "1962-01-08    Below average\n",
       "                  ...      \n",
       "2022-05-16    Above average\n",
       "2022-05-17    Above average\n",
       "2022-05-18    Above average\n",
       "2022-05-19    Above average\n",
       "2022-05-20    Above average\n",
       "Name: Close, Length: 15202, dtype: object"
      ]
     },
     "execution_count": 8,
     "metadata": {},
     "output_type": "execute_result"
    }
   ],
   "source": [
    "ibm['Close'].apply(get_avg_evaluation)"
   ]
  },
  {
   "cell_type": "code",
   "execution_count": 9,
   "id": "7bdc13ce-7375-494b-9556-6ad6f02fd541",
   "metadata": {},
   "outputs": [
    {
     "data": {
      "text/plain": [
       "Close\n",
       "Below average    9231\n",
       "Above average    5971\n",
       "Name: count, dtype: int64"
      ]
     },
     "execution_count": 9,
     "metadata": {},
     "output_type": "execute_result"
    }
   ],
   "source": [
    "comparasion_with_average = ibm['Close'].apply(get_avg_evaluation).value_counts()\n",
    "comparasion_with_average"
   ]
  },
  {
   "cell_type": "code",
   "execution_count": null,
   "id": "b2db4e72-7729-4a47-b012-d7c31804e3ef",
   "metadata": {},
   "outputs": [],
   "source": []
  },
  {
   "cell_type": "code",
   "execution_count": 10,
   "id": "4fc970e6-3e1a-4c0d-8b14-b76ef9ae3918",
   "metadata": {},
   "outputs": [
    {
     "data": {
      "text/plain": [
       "Text(0, 0.5, '')"
      ]
     },
     "execution_count": 10,
     "metadata": {},
     "output_type": "execute_result"
    },
    {
     "data": {
      "image/png": "[encoded data removed]",
      "text/plain": [
       "<Figure size 600x300 with 1 Axes>"
      ]
     },
     "metadata": {},
     "output_type": "display_data"
    }
   ],
   "source": [
    "# 3. PLOTTING AND SETTING UP A GRAPH.\n",
    "\n",
    "comparasion_with_average.plot(kind='pie', figsize = (6,3), autopct = '%1.1f%%').legend(bbox_to_anchor=(1,0.5))\n",
    "plt.title('COMPARASION WITH AVERAGE')\n",
    "plt.ylabel('')"
   ]
  },
  {
   "cell_type": "code",
   "execution_count": null,
   "id": "3e42693c-d16a-4342-b9c4-874d30fb061d",
   "metadata": {},
   "outputs": [],
   "source": []
  }
 ],
 "metadata": {
  "kernelspec": {
   "display_name": "Python 3 (ipykernel)",
   "language": "python",
   "name": "python3"
  },
  "language_info": {
   "codemirror_mode": {
    "name": "ipython",
    "version": 3
   },
   "file_extension": ".py",
   "mimetype": "text/x-python",
   "name": "python",
   "nbconvert_exporter": "python",
   "pygments_lexer": "ipython3",
   "version": "3.12.4"
  }
 },
 "nbformat": 4,
 "nbformat_minor": 5
}
