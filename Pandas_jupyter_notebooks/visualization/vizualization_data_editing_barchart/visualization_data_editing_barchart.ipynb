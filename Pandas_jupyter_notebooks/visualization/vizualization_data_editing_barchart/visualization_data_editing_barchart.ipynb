{
 "cells": [
  {
   "cell_type": "code",
   "execution_count": 1,
   "id": "46238d54-e764-4d8e-8646-c00185196334",
   "metadata": {},
   "outputs": [],
   "source": [
    "#PLOTTING A BAR CHART (BUDGET VISUALIZATION)"
   ]
  },
  {
   "cell_type": "code",
   "execution_count": null,
   "id": "badec845-86c3-42f1-9fa2-7e65bb493acb",
   "metadata": {},
   "outputs": [],
   "source": []
  },
  {
   "cell_type": "code",
   "execution_count": 2,
   "id": "5ee527da-17c6-425f-987e-8818ce750d75",
   "metadata": {},
   "outputs": [
    {
     "data": {
      "text/html": [
       "<div>\n",
       "<style scoped>\n",
       "    .dataframe tbody tr th:only-of-type {\n",
       "        vertical-align: middle;\n",
       "    }\n",
       "\n",
       "    .dataframe tbody tr th {\n",
       "        vertical-align: top;\n",
       "    }\n",
       "\n",
       "    .dataframe thead th {\n",
       "        text-align: right;\n",
       "    }\n",
       "</style>\n",
       "<table border=\"1\" class=\"dataframe\">\n",
       "  <thead>\n",
       "    <tr style=\"text-align: right;\">\n",
       "      <th></th>\n",
       "      <th>Movie Title</th>\n",
       "      <th>Release Year</th>\n",
       "      <th>Runtime</th>\n",
       "      <th>Budget</th>\n",
       "      <th>Box Office</th>\n",
       "    </tr>\n",
       "    <tr>\n",
       "      <th>Movie ID</th>\n",
       "      <th></th>\n",
       "      <th></th>\n",
       "      <th></th>\n",
       "      <th></th>\n",
       "      <th></th>\n",
       "    </tr>\n",
       "  </thead>\n",
       "  <tbody>\n",
       "    <tr>\n",
       "      <th>1</th>\n",
       "      <td>Harry Potter and the Philosopher's Stone</td>\n",
       "      <td>2001</td>\n",
       "      <td>152</td>\n",
       "      <td>$125,000,000</td>\n",
       "      <td>$1,002,000,000</td>\n",
       "    </tr>\n",
       "    <tr>\n",
       "      <th>2</th>\n",
       "      <td>Harry Potter and the Chamber of Secrets</td>\n",
       "      <td>2002</td>\n",
       "      <td>161</td>\n",
       "      <td>$100,000,000</td>\n",
       "      <td>$880,300,000</td>\n",
       "    </tr>\n",
       "    <tr>\n",
       "      <th>3</th>\n",
       "      <td>Harry Potter and the Prisoner of Azkaban</td>\n",
       "      <td>2004</td>\n",
       "      <td>142</td>\n",
       "      <td>$130,000,000</td>\n",
       "      <td>$796,700,000</td>\n",
       "    </tr>\n",
       "    <tr>\n",
       "      <th>4</th>\n",
       "      <td>Harry Potter and the Goblet of Fire</td>\n",
       "      <td>2005</td>\n",
       "      <td>157</td>\n",
       "      <td>$150,000,000</td>\n",
       "      <td>$896,400,000</td>\n",
       "    </tr>\n",
       "    <tr>\n",
       "      <th>5</th>\n",
       "      <td>Harry Potter and the Order of the Phoenix</td>\n",
       "      <td>2007</td>\n",
       "      <td>138</td>\n",
       "      <td>$150,000,000</td>\n",
       "      <td>$942,000,000</td>\n",
       "    </tr>\n",
       "    <tr>\n",
       "      <th>6</th>\n",
       "      <td>Harry Potter and the Half-Blood Prince</td>\n",
       "      <td>2009</td>\n",
       "      <td>153</td>\n",
       "      <td>$250,000,000</td>\n",
       "      <td>$943,200,000</td>\n",
       "    </tr>\n",
       "    <tr>\n",
       "      <th>7</th>\n",
       "      <td>Harry Potter and the Deathly Hallows Part 1</td>\n",
       "      <td>2010</td>\n",
       "      <td>146</td>\n",
       "      <td>$200,000,000</td>\n",
       "      <td>$976,900,000</td>\n",
       "    </tr>\n",
       "    <tr>\n",
       "      <th>8</th>\n",
       "      <td>Harry Potter and the Deathly Hallows Part 2</td>\n",
       "      <td>2011</td>\n",
       "      <td>130</td>\n",
       "      <td>$250,000,000</td>\n",
       "      <td>$1,342,000,000</td>\n",
       "    </tr>\n",
       "  </tbody>\n",
       "</table>\n",
       "</div>"
      ],
      "text/plain": [
       "                                          Movie Title  Release Year  Runtime  \\\n",
       "Movie ID                                                                       \n",
       "1            Harry Potter and the Philosopher's Stone          2001      152   \n",
       "2             Harry Potter and the Chamber of Secrets          2002      161   \n",
       "3            Harry Potter and the Prisoner of Azkaban          2004      142   \n",
       "4                 Harry Potter and the Goblet of Fire          2005      157   \n",
       "5           Harry Potter and the Order of the Phoenix          2007      138   \n",
       "6              Harry Potter and the Half-Blood Prince          2009      153   \n",
       "7         Harry Potter and the Deathly Hallows Part 1          2010      146   \n",
       "8         Harry Potter and the Deathly Hallows Part 2          2011      130   \n",
       "\n",
       "                 Budget       Box Office  \n",
       "Movie ID                                  \n",
       "1         $125,000,000   $1,002,000,000   \n",
       "2         $100,000,000     $880,300,000   \n",
       "3         $130,000,000     $796,700,000   \n",
       "4         $150,000,000     $896,400,000   \n",
       "5         $150,000,000     $942,000,000   \n",
       "6         $250,000,000     $943,200,000   \n",
       "7         $200,000,000     $976,900,000   \n",
       "8         $250,000,000   $1,342,000,000   "
      ]
     },
     "execution_count": 2,
     "metadata": {},
     "output_type": "execute_result"
    }
   ],
   "source": [
    "# 1. IMPORTING LIBRARIES.\n",
    "\n",
    "import pandas as pd\n",
    "import matplotlib.pyplot as plt\n",
    "\n",
    "movies = pd.read_csv('hp-movies.csv', index_col = 'Movie ID')\n",
    "\n",
    "movies"
   ]
  },
  {
   "cell_type": "code",
   "execution_count": 3,
   "id": "8d2bf524-b241-4c89-8f6d-84c1b13c3be2",
   "metadata": {},
   "outputs": [
    {
     "data": {
      "text/html": [
       "<div>\n",
       "<style scoped>\n",
       "    .dataframe tbody tr th:only-of-type {\n",
       "        vertical-align: middle;\n",
       "    }\n",
       "\n",
       "    .dataframe tbody tr th {\n",
       "        vertical-align: top;\n",
       "    }\n",
       "\n",
       "    .dataframe thead th {\n",
       "        text-align: right;\n",
       "    }\n",
       "</style>\n",
       "<table border=\"1\" class=\"dataframe\">\n",
       "  <thead>\n",
       "    <tr style=\"text-align: right;\">\n",
       "      <th></th>\n",
       "      <th>Movie Title</th>\n",
       "      <th>Budget</th>\n",
       "    </tr>\n",
       "    <tr>\n",
       "      <th>Movie ID</th>\n",
       "      <th></th>\n",
       "      <th></th>\n",
       "    </tr>\n",
       "  </thead>\n",
       "  <tbody>\n",
       "    <tr>\n",
       "      <th>1</th>\n",
       "      <td>Harry Potter and the Philosopher's Stone</td>\n",
       "      <td>$125,000,000</td>\n",
       "    </tr>\n",
       "    <tr>\n",
       "      <th>2</th>\n",
       "      <td>Harry Potter and the Chamber of Secrets</td>\n",
       "      <td>$100,000,000</td>\n",
       "    </tr>\n",
       "    <tr>\n",
       "      <th>3</th>\n",
       "      <td>Harry Potter and the Prisoner of Azkaban</td>\n",
       "      <td>$130,000,000</td>\n",
       "    </tr>\n",
       "    <tr>\n",
       "      <th>4</th>\n",
       "      <td>Harry Potter and the Goblet of Fire</td>\n",
       "      <td>$150,000,000</td>\n",
       "    </tr>\n",
       "    <tr>\n",
       "      <th>5</th>\n",
       "      <td>Harry Potter and the Order of the Phoenix</td>\n",
       "      <td>$150,000,000</td>\n",
       "    </tr>\n",
       "    <tr>\n",
       "      <th>6</th>\n",
       "      <td>Harry Potter and the Half-Blood Prince</td>\n",
       "      <td>$250,000,000</td>\n",
       "    </tr>\n",
       "    <tr>\n",
       "      <th>7</th>\n",
       "      <td>Harry Potter and the Deathly Hallows Part 1</td>\n",
       "      <td>$200,000,000</td>\n",
       "    </tr>\n",
       "    <tr>\n",
       "      <th>8</th>\n",
       "      <td>Harry Potter and the Deathly Hallows Part 2</td>\n",
       "      <td>$250,000,000</td>\n",
       "    </tr>\n",
       "  </tbody>\n",
       "</table>\n",
       "</div>"
      ],
      "text/plain": [
       "                                          Movie Title         Budget\n",
       "Movie ID                                                            \n",
       "1            Harry Potter and the Philosopher's Stone  $125,000,000 \n",
       "2             Harry Potter and the Chamber of Secrets  $100,000,000 \n",
       "3            Harry Potter and the Prisoner of Azkaban  $130,000,000 \n",
       "4                 Harry Potter and the Goblet of Fire  $150,000,000 \n",
       "5           Harry Potter and the Order of the Phoenix  $150,000,000 \n",
       "6              Harry Potter and the Half-Blood Prince  $250,000,000 \n",
       "7         Harry Potter and the Deathly Hallows Part 1  $200,000,000 \n",
       "8         Harry Potter and the Deathly Hallows Part 2  $250,000,000 "
      ]
     },
     "execution_count": 3,
     "metadata": {},
     "output_type": "execute_result"
    }
   ],
   "source": [
    "graph_1 = movies[['Movie Title', 'Budget']]\n",
    "graph_1"
   ]
  },
  {
   "cell_type": "code",
   "execution_count": 4,
   "id": "f3ba5be6-0a90-4d90-8846-cd5fe085023f",
   "metadata": {},
   "outputs": [
    {
     "name": "stdout",
     "output_type": "stream",
     "text": [
      "<class 'pandas.core.frame.DataFrame'>\n",
      "Index: 8 entries, 1 to 8\n",
      "Data columns (total 2 columns):\n",
      " #   Column       Non-Null Count  Dtype \n",
      "---  ------       --------------  ----- \n",
      " 0   Movie Title  8 non-null      object\n",
      " 1   Budget       8 non-null      object\n",
      "dtypes: object(2)\n",
      "memory usage: 192.0+ bytes\n"
     ]
    }
   ],
   "source": [
    "graph_1.info()"
   ]
  },
  {
   "cell_type": "code",
   "execution_count": null,
   "id": "95332608-fef7-4c21-b47d-03759f5f7938",
   "metadata": {},
   "outputs": [],
   "source": []
  },
  {
   "cell_type": "code",
   "execution_count": 5,
   "id": "031f4c81-2d43-4f77-be1d-04faf0556a2c",
   "metadata": {
    "scrolled": true
   },
   "outputs": [
    {
     "data": {
      "text/html": [
       "<div>\n",
       "<style scoped>\n",
       "    .dataframe tbody tr th:only-of-type {\n",
       "        vertical-align: middle;\n",
       "    }\n",
       "\n",
       "    .dataframe tbody tr th {\n",
       "        vertical-align: top;\n",
       "    }\n",
       "\n",
       "    .dataframe thead th {\n",
       "        text-align: right;\n",
       "    }\n",
       "</style>\n",
       "<table border=\"1\" class=\"dataframe\">\n",
       "  <thead>\n",
       "    <tr style=\"text-align: right;\">\n",
       "      <th></th>\n",
       "      <th>Movie Title</th>\n",
       "      <th>Budget</th>\n",
       "    </tr>\n",
       "    <tr>\n",
       "      <th>Movie ID</th>\n",
       "      <th></th>\n",
       "      <th></th>\n",
       "    </tr>\n",
       "  </thead>\n",
       "  <tbody>\n",
       "    <tr>\n",
       "      <th>1</th>\n",
       "      <td>Harry Potter and the Philosopher's Stone</td>\n",
       "      <td>125000000</td>\n",
       "    </tr>\n",
       "    <tr>\n",
       "      <th>2</th>\n",
       "      <td>Harry Potter and the Chamber of Secrets</td>\n",
       "      <td>100000000</td>\n",
       "    </tr>\n",
       "    <tr>\n",
       "      <th>3</th>\n",
       "      <td>Harry Potter and the Prisoner of Azkaban</td>\n",
       "      <td>130000000</td>\n",
       "    </tr>\n",
       "    <tr>\n",
       "      <th>4</th>\n",
       "      <td>Harry Potter and the Goblet of Fire</td>\n",
       "      <td>150000000</td>\n",
       "    </tr>\n",
       "    <tr>\n",
       "      <th>5</th>\n",
       "      <td>Harry Potter and the Order of the Phoenix</td>\n",
       "      <td>150000000</td>\n",
       "    </tr>\n",
       "    <tr>\n",
       "      <th>6</th>\n",
       "      <td>Harry Potter and the Half-Blood Prince</td>\n",
       "      <td>250000000</td>\n",
       "    </tr>\n",
       "    <tr>\n",
       "      <th>7</th>\n",
       "      <td>Harry Potter and the Deathly Hallows Part 1</td>\n",
       "      <td>200000000</td>\n",
       "    </tr>\n",
       "    <tr>\n",
       "      <th>8</th>\n",
       "      <td>Harry Potter and the Deathly Hallows Part 2</td>\n",
       "      <td>250000000</td>\n",
       "    </tr>\n",
       "  </tbody>\n",
       "</table>\n",
       "</div>"
      ],
      "text/plain": [
       "                                          Movie Title      Budget\n",
       "Movie ID                                                         \n",
       "1            Harry Potter and the Philosopher's Stone  125000000 \n",
       "2             Harry Potter and the Chamber of Secrets  100000000 \n",
       "3            Harry Potter and the Prisoner of Azkaban  130000000 \n",
       "4                 Harry Potter and the Goblet of Fire  150000000 \n",
       "5           Harry Potter and the Order of the Phoenix  150000000 \n",
       "6              Harry Potter and the Half-Blood Prince  250000000 \n",
       "7         Harry Potter and the Deathly Hallows Part 1  200000000 \n",
       "8         Harry Potter and the Deathly Hallows Part 2  250000000 "
      ]
     },
     "execution_count": 5,
     "metadata": {},
     "output_type": "execute_result"
    }
   ],
   "source": [
    "# 2. REPLACING SPECIAL CHARACTERS (A COMA, $) WITH AN EMPTY STRING.\n",
    "\n",
    "graph_1.loc[:, 'Budget'] = graph_1['Budget'].str.replace(',', '')\n",
    "graph_1.loc[:, 'Budget'] = graph_1['Budget'].str.replace('$', '')\n",
    "graph_1"
   ]
  },
  {
   "cell_type": "code",
   "execution_count": null,
   "id": "d37e521e-ed44-4eda-aabf-18a6052014e6",
   "metadata": {},
   "outputs": [],
   "source": []
  },
  {
   "cell_type": "code",
   "execution_count": 6,
   "id": "cd1680cc-3679-48dc-ac18-6155ea95d3b3",
   "metadata": {},
   "outputs": [],
   "source": [
    "# 3. CHANGING OF DTYPE.\n",
    "\n",
    "graph_1.loc[:, 'Budget'] = graph_1['Budget'].astype(int)"
   ]
  },
  {
   "cell_type": "code",
   "execution_count": 7,
   "id": "d2ba6050-1432-4ff3-9e8f-ba4f69db0d48",
   "metadata": {},
   "outputs": [
    {
     "name": "stdout",
     "output_type": "stream",
     "text": [
      "<class 'pandas.core.frame.DataFrame'>\n",
      "Index: 8 entries, 1 to 8\n",
      "Data columns (total 2 columns):\n",
      " #   Column       Non-Null Count  Dtype \n",
      "---  ------       --------------  ----- \n",
      " 0   Movie Title  8 non-null      object\n",
      " 1   Budget       8 non-null      object\n",
      "dtypes: object(2)\n",
      "memory usage: 192.0+ bytes\n"
     ]
    }
   ],
   "source": [
    "graph_1.info()"
   ]
  },
  {
   "cell_type": "code",
   "execution_count": null,
   "id": "9f983df4-19bb-47f4-ae7b-83ba75b2c2a1",
   "metadata": {},
   "outputs": [],
   "source": []
  },
  {
   "cell_type": "code",
   "execution_count": 8,
   "id": "8d9f8050-db41-455d-a0f7-987fa93ab430",
   "metadata": {
    "jupyter": {
     "source_hidden": true
    }
   },
   "outputs": [],
   "source": [
    "# 4. PLOTTING ANG SETTING UP A GRAPH."
   ]
  },
  {
   "cell_type": "code",
   "execution_count": 9,
   "id": "6298b15a-f7ef-4618-9b87-0a125c221e73",
   "metadata": {},
   "outputs": [
    {
     "data": {
      "image/png": "[encoded data removed]",
      "text/plain": [
       "<Figure size 400x300 with 1 Axes>"
      ]
     },
     "metadata": {},
     "output_type": "display_data"
    }
   ],
   "source": [
    "graph_1.plot(x='Movie Title', y='Budget', kind='bar', figsize=(4,3), color='grey')\n",
    "plt.title('Harry Potter movie budget')\n",
    "plt.xlabel('Movie')\n",
    "plt.ylabel('Budget in $')\n",
    "plt.grid(True, linestyle='--', linewidth=0.5)\n",
    "plt.xticks(rotation=45, ha='right')\n",
    "plt.style.use('tableau-colorblind10')\n",
    "plt.tick_params(axis='x', labelsize=8)\n",
    "plt.tick_params(axis='y', labelsize=8)"
   ]
  },
  {
   "cell_type": "code",
   "execution_count": null,
   "id": "a4086b92-31b1-4342-9932-1ee7fce0b1b0",
   "metadata": {},
   "outputs": [],
   "source": []
  }
 ],
 "metadata": {
  "kernelspec": {
   "display_name": "Python 3 (ipykernel)",
   "language": "python",
   "name": "python3"
  },
  "language_info": {
   "codemirror_mode": {
    "name": "ipython",
    "version": 3
   },
   "file_extension": ".py",
   "mimetype": "text/x-python",
   "name": "python",
   "nbconvert_exporter": "python",
   "pygments_lexer": "ipython3",
   "version": "3.12.4"
  }
 },
 "nbformat": 4,
 "nbformat_minor": 5
}
