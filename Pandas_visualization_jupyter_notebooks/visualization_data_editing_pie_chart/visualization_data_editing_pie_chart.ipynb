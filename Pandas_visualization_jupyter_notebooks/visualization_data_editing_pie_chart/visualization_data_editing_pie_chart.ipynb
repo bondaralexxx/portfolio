{
 "cells": [
  {
   "cell_type": "code",
   "execution_count": 1,
   "id": "eeaf32ee-4be0-4a00-aac6-ba522caa295b",
   "metadata": {},
   "outputs": [],
   "source": [
    "#PLOTTING A PIE CHART."
   ]
  },
  {
   "cell_type": "code",
   "execution_count": null,
   "id": "df543758-8033-41c7-b753-88d6d944cfb5",
   "metadata": {},
   "outputs": [],
   "source": []
  },
  {
   "cell_type": "code",
   "execution_count": 2,
   "id": "8b8464fe-b2f1-47af-9b08-1e608e970aa2",
   "metadata": {},
   "outputs": [
    {
     "data": {
      "text/html": [
       "<div>\n",
       "<style scoped>\n",
       "    .dataframe tbody tr th:only-of-type {\n",
       "        vertical-align: middle;\n",
       "    }\n",
       "\n",
       "    .dataframe tbody tr th {\n",
       "        vertical-align: top;\n",
       "    }\n",
       "\n",
       "    .dataframe thead th {\n",
       "        text-align: right;\n",
       "    }\n",
       "</style>\n",
       "<table border=\"1\" class=\"dataframe\">\n",
       "  <thead>\n",
       "    <tr style=\"text-align: right;\">\n",
       "      <th></th>\n",
       "      <th>Movie ID</th>\n",
       "      <th>Movie Title</th>\n",
       "      <th>Release Year</th>\n",
       "      <th>Runtime</th>\n",
       "      <th>Budget</th>\n",
       "      <th>Box Office</th>\n",
       "    </tr>\n",
       "  </thead>\n",
       "  <tbody>\n",
       "    <tr>\n",
       "      <th>0</th>\n",
       "      <td>1</td>\n",
       "      <td>Harry Potter and the Philosopher's Stone</td>\n",
       "      <td>2001</td>\n",
       "      <td>152</td>\n",
       "      <td>$125,000,000</td>\n",
       "      <td>$1,002,000,000</td>\n",
       "    </tr>\n",
       "    <tr>\n",
       "      <th>1</th>\n",
       "      <td>2</td>\n",
       "      <td>Harry Potter and the Chamber of Secrets</td>\n",
       "      <td>2002</td>\n",
       "      <td>161</td>\n",
       "      <td>$100,000,000</td>\n",
       "      <td>$880,300,000</td>\n",
       "    </tr>\n",
       "    <tr>\n",
       "      <th>2</th>\n",
       "      <td>3</td>\n",
       "      <td>Harry Potter and the Prisoner of Azkaban</td>\n",
       "      <td>2004</td>\n",
       "      <td>142</td>\n",
       "      <td>$130,000,000</td>\n",
       "      <td>$796,700,000</td>\n",
       "    </tr>\n",
       "    <tr>\n",
       "      <th>3</th>\n",
       "      <td>4</td>\n",
       "      <td>Harry Potter and the Goblet of Fire</td>\n",
       "      <td>2005</td>\n",
       "      <td>157</td>\n",
       "      <td>$150,000,000</td>\n",
       "      <td>$896,400,000</td>\n",
       "    </tr>\n",
       "    <tr>\n",
       "      <th>4</th>\n",
       "      <td>5</td>\n",
       "      <td>Harry Potter and the Order of the Phoenix</td>\n",
       "      <td>2007</td>\n",
       "      <td>138</td>\n",
       "      <td>$150,000,000</td>\n",
       "      <td>$942,000,000</td>\n",
       "    </tr>\n",
       "    <tr>\n",
       "      <th>5</th>\n",
       "      <td>6</td>\n",
       "      <td>Harry Potter and the Half-Blood Prince</td>\n",
       "      <td>2009</td>\n",
       "      <td>153</td>\n",
       "      <td>$250,000,000</td>\n",
       "      <td>$943,200,000</td>\n",
       "    </tr>\n",
       "    <tr>\n",
       "      <th>6</th>\n",
       "      <td>7</td>\n",
       "      <td>Harry Potter and the Deathly Hallows Part 1</td>\n",
       "      <td>2010</td>\n",
       "      <td>146</td>\n",
       "      <td>$200,000,000</td>\n",
       "      <td>$976,900,000</td>\n",
       "    </tr>\n",
       "    <tr>\n",
       "      <th>7</th>\n",
       "      <td>8</td>\n",
       "      <td>Harry Potter and the Deathly Hallows Part 2</td>\n",
       "      <td>2011</td>\n",
       "      <td>130</td>\n",
       "      <td>$250,000,000</td>\n",
       "      <td>$1,342,000,000</td>\n",
       "    </tr>\n",
       "  </tbody>\n",
       "</table>\n",
       "</div>"
      ],
      "text/plain": [
       "   Movie ID                                  Movie Title  Release Year  \\\n",
       "0         1     Harry Potter and the Philosopher's Stone          2001   \n",
       "1         2      Harry Potter and the Chamber of Secrets          2002   \n",
       "2         3     Harry Potter and the Prisoner of Azkaban          2004   \n",
       "3         4          Harry Potter and the Goblet of Fire          2005   \n",
       "4         5    Harry Potter and the Order of the Phoenix          2007   \n",
       "5         6       Harry Potter and the Half-Blood Prince          2009   \n",
       "6         7  Harry Potter and the Deathly Hallows Part 1          2010   \n",
       "7         8  Harry Potter and the Deathly Hallows Part 2          2011   \n",
       "\n",
       "   Runtime         Budget       Box Office  \n",
       "0      152  $125,000,000   $1,002,000,000   \n",
       "1      161  $100,000,000     $880,300,000   \n",
       "2      142  $130,000,000     $796,700,000   \n",
       "3      157  $150,000,000     $896,400,000   \n",
       "4      138  $150,000,000     $942,000,000   \n",
       "5      153  $250,000,000     $943,200,000   \n",
       "6      146  $200,000,000     $976,900,000   \n",
       "7      130  $250,000,000   $1,342,000,000   "
      ]
     },
     "execution_count": 2,
     "metadata": {},
     "output_type": "execute_result"
    }
   ],
   "source": [
    "# 1. IMPORTING LIBRARIES.\n",
    "\n",
    "import pandas as pd\n",
    "import matplotlib.pyplot as plt\n",
    "\n",
    "hp = pd.read_csv('hp-movies.csv')\n",
    "\n",
    "hp"
   ]
  },
  {
   "cell_type": "code",
   "execution_count": 3,
   "id": "cfe30cdb-6cd0-4e21-a4ab-dfad67ac2080",
   "metadata": {},
   "outputs": [
    {
     "data": {
      "text/html": [
       "<div>\n",
       "<style scoped>\n",
       "    .dataframe tbody tr th:only-of-type {\n",
       "        vertical-align: middle;\n",
       "    }\n",
       "\n",
       "    .dataframe tbody tr th {\n",
       "        vertical-align: top;\n",
       "    }\n",
       "\n",
       "    .dataframe thead th {\n",
       "        text-align: right;\n",
       "    }\n",
       "</style>\n",
       "<table border=\"1\" class=\"dataframe\">\n",
       "  <thead>\n",
       "    <tr style=\"text-align: right;\">\n",
       "      <th></th>\n",
       "      <th>Box Office</th>\n",
       "    </tr>\n",
       "    <tr>\n",
       "      <th>Movie Title</th>\n",
       "      <th></th>\n",
       "    </tr>\n",
       "  </thead>\n",
       "  <tbody>\n",
       "    <tr>\n",
       "      <th>Harry Potter and the Philosopher's Stone</th>\n",
       "      <td>$1,002,000,000</td>\n",
       "    </tr>\n",
       "    <tr>\n",
       "      <th>Harry Potter and the Chamber of Secrets</th>\n",
       "      <td>$880,300,000</td>\n",
       "    </tr>\n",
       "    <tr>\n",
       "      <th>Harry Potter and the Prisoner of Azkaban</th>\n",
       "      <td>$796,700,000</td>\n",
       "    </tr>\n",
       "    <tr>\n",
       "      <th>Harry Potter and the Goblet of Fire</th>\n",
       "      <td>$896,400,000</td>\n",
       "    </tr>\n",
       "    <tr>\n",
       "      <th>Harry Potter and the Order of the Phoenix</th>\n",
       "      <td>$942,000,000</td>\n",
       "    </tr>\n",
       "    <tr>\n",
       "      <th>Harry Potter and the Half-Blood Prince</th>\n",
       "      <td>$943,200,000</td>\n",
       "    </tr>\n",
       "    <tr>\n",
       "      <th>Harry Potter and the Deathly Hallows Part 1</th>\n",
       "      <td>$976,900,000</td>\n",
       "    </tr>\n",
       "    <tr>\n",
       "      <th>Harry Potter and the Deathly Hallows Part 2</th>\n",
       "      <td>$1,342,000,000</td>\n",
       "    </tr>\n",
       "  </tbody>\n",
       "</table>\n",
       "</div>"
      ],
      "text/plain": [
       "                                                  Box Office\n",
       "Movie Title                                                 \n",
       "Harry Potter and the Philosopher's Stone     $1,002,000,000 \n",
       "Harry Potter and the Chamber of Secrets        $880,300,000 \n",
       "Harry Potter and the Prisoner of Azkaban       $796,700,000 \n",
       "Harry Potter and the Goblet of Fire            $896,400,000 \n",
       "Harry Potter and the Order of the Phoenix      $942,000,000 \n",
       "Harry Potter and the Half-Blood Prince         $943,200,000 \n",
       "Harry Potter and the Deathly Hallows Part 1    $976,900,000 \n",
       "Harry Potter and the Deathly Hallows Part 2  $1,342,000,000 "
      ]
     },
     "execution_count": 3,
     "metadata": {},
     "output_type": "execute_result"
    }
   ],
   "source": [
    "graph_2 = hp[['Movie Title', 'Box Office']].set_index('Movie Title')\n",
    "graph_2"
   ]
  },
  {
   "cell_type": "code",
   "execution_count": null,
   "id": "033e8cf8-4893-42b3-bc1f-ae9b7db343eb",
   "metadata": {},
   "outputs": [],
   "source": []
  },
  {
   "cell_type": "code",
   "execution_count": 4,
   "id": "31ae60c4-d298-44b0-8d16-1683bac4af7c",
   "metadata": {},
   "outputs": [
    {
     "data": {
      "text/html": [
       "<div>\n",
       "<style scoped>\n",
       "    .dataframe tbody tr th:only-of-type {\n",
       "        vertical-align: middle;\n",
       "    }\n",
       "\n",
       "    .dataframe tbody tr th {\n",
       "        vertical-align: top;\n",
       "    }\n",
       "\n",
       "    .dataframe thead th {\n",
       "        text-align: right;\n",
       "    }\n",
       "</style>\n",
       "<table border=\"1\" class=\"dataframe\">\n",
       "  <thead>\n",
       "    <tr style=\"text-align: right;\">\n",
       "      <th></th>\n",
       "      <th>Box Office</th>\n",
       "    </tr>\n",
       "    <tr>\n",
       "      <th>Movie Title</th>\n",
       "      <th></th>\n",
       "    </tr>\n",
       "  </thead>\n",
       "  <tbody>\n",
       "    <tr>\n",
       "      <th>Harry Potter and the Philosopher's Stone</th>\n",
       "      <td>1002000000</td>\n",
       "    </tr>\n",
       "    <tr>\n",
       "      <th>Harry Potter and the Chamber of Secrets</th>\n",
       "      <td>880300000</td>\n",
       "    </tr>\n",
       "    <tr>\n",
       "      <th>Harry Potter and the Prisoner of Azkaban</th>\n",
       "      <td>796700000</td>\n",
       "    </tr>\n",
       "    <tr>\n",
       "      <th>Harry Potter and the Goblet of Fire</th>\n",
       "      <td>896400000</td>\n",
       "    </tr>\n",
       "    <tr>\n",
       "      <th>Harry Potter and the Order of the Phoenix</th>\n",
       "      <td>942000000</td>\n",
       "    </tr>\n",
       "    <tr>\n",
       "      <th>Harry Potter and the Half-Blood Prince</th>\n",
       "      <td>943200000</td>\n",
       "    </tr>\n",
       "    <tr>\n",
       "      <th>Harry Potter and the Deathly Hallows Part 1</th>\n",
       "      <td>976900000</td>\n",
       "    </tr>\n",
       "    <tr>\n",
       "      <th>Harry Potter and the Deathly Hallows Part 2</th>\n",
       "      <td>1342000000</td>\n",
       "    </tr>\n",
       "  </tbody>\n",
       "</table>\n",
       "</div>"
      ],
      "text/plain": [
       "                                              Box Office\n",
       "Movie Title                                             \n",
       "Harry Potter and the Philosopher's Stone     1002000000 \n",
       "Harry Potter and the Chamber of Secrets       880300000 \n",
       "Harry Potter and the Prisoner of Azkaban      796700000 \n",
       "Harry Potter and the Goblet of Fire           896400000 \n",
       "Harry Potter and the Order of the Phoenix     942000000 \n",
       "Harry Potter and the Half-Blood Prince        943200000 \n",
       "Harry Potter and the Deathly Hallows Part 1   976900000 \n",
       "Harry Potter and the Deathly Hallows Part 2  1342000000 "
      ]
     },
     "execution_count": 4,
     "metadata": {},
     "output_type": "execute_result"
    }
   ],
   "source": [
    "# 2. REPLACING SPECIAL CHARACTERS (A COMA, $) WITH AN EMPTY STRING.\n",
    "\n",
    "graph_2['Box Office'] = graph_2['Box Office'].str.replace(',', '')\n",
    "graph_2['Box Office'] = graph_2['Box Office'].str.replace('$', '')\n",
    "graph_2"
   ]
  },
  {
   "cell_type": "code",
   "execution_count": null,
   "id": "0d99ad23-6f49-4bf8-86ad-0f01abafa558",
   "metadata": {},
   "outputs": [],
   "source": []
  },
  {
   "cell_type": "code",
   "execution_count": 5,
   "id": "37acbf9e-6ae1-40f9-8f49-7f039a758660",
   "metadata": {},
   "outputs": [
    {
     "name": "stdout",
     "output_type": "stream",
     "text": [
      "<class 'pandas.core.frame.DataFrame'>\n",
      "Index: 8 entries, Harry Potter and the Philosopher's Stone to Harry Potter and the Deathly Hallows Part 2\n",
      "Data columns (total 1 columns):\n",
      " #   Column      Non-Null Count  Dtype\n",
      "---  ------      --------------  -----\n",
      " 0   Box Office  8 non-null      int32\n",
      "dtypes: int32(1)\n",
      "memory usage: 96.0+ bytes\n"
     ]
    }
   ],
   "source": [
    "# 3. CHANGING OF DTYPE.\n",
    "\n",
    "graph_2['Box Office'] = graph_2['Box Office'].astype(int)\n",
    "graph_2.info()"
   ]
  },
  {
   "cell_type": "code",
   "execution_count": null,
   "id": "bf4d3984-8dd0-4b28-99ed-dd34e0f86023",
   "metadata": {},
   "outputs": [],
   "source": []
  },
  {
   "cell_type": "code",
   "execution_count": 6,
   "id": "6e7a0c8c-79d6-4be5-97e5-420724751595",
   "metadata": {},
   "outputs": [
    {
     "data": {
      "text/plain": [
       "Text(0, 0.5, '')"
      ]
     },
     "execution_count": 6,
     "metadata": {},
     "output_type": "execute_result"
    },
    {
     "data": {
      "image/png": "[encoded data removed]",
      "text/plain": [
       "<Figure size 500x500 with 1 Axes>"
      ]
     },
     "metadata": {},
     "output_type": "display_data"
    }
   ],
   "source": [
    "# 4. PLOTTING AND SETTING UP A GRAPH.\n",
    "\n",
    "graph_2 = graph_2.sort_values('Box Office', ascending=False)\n",
    "graph_2['Box Office'].plot(kind='pie', figsize = (5,5), startangle = 90, autopct = '%1.1f%%')\n",
    "plt.title('Harry Potter movie box office')\n",
    "plt.ylabel('')"
   ]
  },
  {
   "cell_type": "code",
   "execution_count": null,
   "id": "2658c13a-ee72-4b8f-8128-811539121e8f",
   "metadata": {},
   "outputs": [],
   "source": []
  }
 ],
 "metadata": {
  "kernelspec": {
   "display_name": "Python 3 (ipykernel)",
   "language": "python",
   "name": "python3"
  },
  "language_info": {
   "codemirror_mode": {
    "name": "ipython",
    "version": 3
   },
   "file_extension": ".py",
   "mimetype": "text/x-python",
   "name": "python",
   "nbconvert_exporter": "python",
   "pygments_lexer": "ipython3",
   "version": "3.12.4"
  }
 },
 "nbformat": 4,
 "nbformat_minor": 5
}
