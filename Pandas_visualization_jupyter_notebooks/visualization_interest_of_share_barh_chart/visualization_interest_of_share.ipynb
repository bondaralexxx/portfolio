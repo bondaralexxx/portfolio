{
 "cells": [
  {
   "cell_type": "code",
   "execution_count": 1,
   "id": "05cc9617-abb4-4032-9984-5d23417dde15",
   "metadata": {},
   "outputs": [],
   "source": [
    "#PLOTTING A BARH CHART (INTEREST OF SHARE)"
   ]
  },
  {
   "cell_type": "code",
   "execution_count": null,
   "id": "d0f526fb-f09b-4c2b-8a0f-3669e2b3289d",
   "metadata": {},
   "outputs": [],
   "source": []
  },
  {
   "cell_type": "code",
   "execution_count": 2,
   "id": "0f585851-f8a4-4c3c-9e3e-c0a1408a55c6",
   "metadata": {},
   "outputs": [],
   "source": [
    "# 1. IMPORTING LIBRARIES.\n",
    "\n",
    "import pandas as pd\n",
    "import matplotlib.pyplot as plt"
   ]
  },
  {
   "cell_type": "code",
   "execution_count": 3,
   "id": "c4aaa74d-c61f-443f-9d81-9fef809fa258",
   "metadata": {},
   "outputs": [
    {
     "data": {
      "text/html": [
       "<div>\n",
       "<style scoped>\n",
       "    .dataframe tbody tr th:only-of-type {\n",
       "        vertical-align: middle;\n",
       "    }\n",
       "\n",
       "    .dataframe tbody tr th {\n",
       "        vertical-align: top;\n",
       "    }\n",
       "\n",
       "    .dataframe thead th {\n",
       "        text-align: right;\n",
       "    }\n",
       "</style>\n",
       "<table border=\"1\" class=\"dataframe\">\n",
       "  <thead>\n",
       "    <tr style=\"text-align: right;\">\n",
       "      <th></th>\n",
       "      <th>Open</th>\n",
       "      <th>High</th>\n",
       "      <th>Low</th>\n",
       "      <th>Close</th>\n",
       "      <th>Adj Close</th>\n",
       "      <th>Volume</th>\n",
       "    </tr>\n",
       "    <tr>\n",
       "      <th>Date</th>\n",
       "      <th></th>\n",
       "      <th></th>\n",
       "      <th></th>\n",
       "      <th></th>\n",
       "      <th></th>\n",
       "      <th></th>\n",
       "    </tr>\n",
       "  </thead>\n",
       "  <tbody>\n",
       "    <tr>\n",
       "      <th>1962-01-02</th>\n",
       "      <td>7.374124</td>\n",
       "      <td>7.374124</td>\n",
       "      <td>7.291268</td>\n",
       "      <td>7.291268</td>\n",
       "      <td>1.673325</td>\n",
       "      <td>407940</td>\n",
       "    </tr>\n",
       "    <tr>\n",
       "      <th>1962-01-03</th>\n",
       "      <td>7.291268</td>\n",
       "      <td>7.355003</td>\n",
       "      <td>7.291268</td>\n",
       "      <td>7.355003</td>\n",
       "      <td>1.687950</td>\n",
       "      <td>305955</td>\n",
       "    </tr>\n",
       "    <tr>\n",
       "      <th>1962-01-04</th>\n",
       "      <td>7.355003</td>\n",
       "      <td>7.355003</td>\n",
       "      <td>7.278521</td>\n",
       "      <td>7.281708</td>\n",
       "      <td>1.671130</td>\n",
       "      <td>274575</td>\n",
       "    </tr>\n",
       "  </tbody>\n",
       "</table>\n",
       "</div>"
      ],
      "text/plain": [
       "                Open      High       Low     Close  Adj Close  Volume\n",
       "Date                                                                 \n",
       "1962-01-02  7.374124  7.374124  7.291268  7.291268   1.673325  407940\n",
       "1962-01-03  7.291268  7.355003  7.291268  7.355003   1.687950  305955\n",
       "1962-01-04  7.355003  7.355003  7.278521  7.281708   1.671130  274575"
      ]
     },
     "execution_count": 3,
     "metadata": {},
     "output_type": "execute_result"
    }
   ],
   "source": [
    "ibm = pd.read_csv('IBM.csv', index_col = 'Date')\n",
    "ibm.head(3)"
   ]
  },
  {
   "cell_type": "code",
   "execution_count": 4,
   "id": "2469db6f-3a18-4808-84fa-ebdb4098d38f",
   "metadata": {},
   "outputs": [
    {
     "data": {
      "text/plain": [
       "3.900574"
      ]
     },
     "execution_count": 4,
     "metadata": {},
     "output_type": "execute_result"
    }
   ],
   "source": [
    "ibm['Close'].min()"
   ]
  },
  {
   "cell_type": "code",
   "execution_count": 5,
   "id": "0a72eeda-fbd4-4780-b7aa-00c5b8c95ef0",
   "metadata": {},
   "outputs": [
    {
     "data": {
      "text/plain": [
       "206.309753"
      ]
     },
     "execution_count": 5,
     "metadata": {},
     "output_type": "execute_result"
    }
   ],
   "source": [
    "ibm['Close'].max()"
   ]
  },
  {
   "cell_type": "code",
   "execution_count": null,
   "id": "faaedf38-5042-45c6-82f1-374afdc77700",
   "metadata": {},
   "outputs": [],
   "source": []
  },
  {
   "cell_type": "code",
   "execution_count": 6,
   "id": "1bf47655-31ce-4f8f-832e-e3e9f3aa5f3a",
   "metadata": {},
   "outputs": [
    {
     "data": {
      "text/plain": [
       "Date\n",
       "1962-01-02    Not interestind\n",
       "1962-01-03    Not interestind\n",
       "1962-01-04    Not interestind\n",
       "1962-01-05    Not interestind\n",
       "1962-01-08    Not interestind\n",
       "                   ...       \n",
       "2022-05-16          Excellent\n",
       "2022-05-17          Excellent\n",
       "2022-05-18          Excellent\n",
       "2022-05-19          Excellent\n",
       "2022-05-20          Excellent\n",
       "Name: Close, Length: 15202, dtype: object"
      ]
     },
     "execution_count": 6,
     "metadata": {},
     "output_type": "execute_result"
    }
   ],
   "source": [
    "# 2. CREATING A SORT FUNCTION.\n",
    "\n",
    "def mark_close_price(close_price):\n",
    "    if close_price <= 50:\n",
    "        return 'Not interestind'\n",
    "    elif 50 < close_price <= 100:\n",
    "        return 'Interesting'\n",
    "    else:\n",
    "        return 'Excellent'\n",
    "\n",
    "ibm['Close'].apply(mark_close_price)"
   ]
  },
  {
   "cell_type": "code",
   "execution_count": 7,
   "id": "99029852-2e48-4a03-9636-2daadbf6605f",
   "metadata": {},
   "outputs": [
    {
     "data": {
      "text/plain": [
       "Close\n",
       "Not interestind    9080\n",
       "Excellent          4109\n",
       "Interesting        2013\n",
       "Name: count, dtype: int64"
      ]
     },
     "execution_count": 7,
     "metadata": {},
     "output_type": "execute_result"
    }
   ],
   "source": [
    "level_of_interest = ibm['Close'].apply(mark_close_price).value_counts()\n",
    "level_of_interest"
   ]
  },
  {
   "cell_type": "code",
   "execution_count": null,
   "id": "5cb69e6c-bd07-4156-a4aa-df08f22901fe",
   "metadata": {},
   "outputs": [],
   "source": []
  },
  {
   "cell_type": "code",
   "execution_count": 8,
   "id": "9df245ac-9f46-4d23-a3b2-98c38af27bfa",
   "metadata": {},
   "outputs": [
    {
     "data": {
      "image/png": "[encoded data removed]",
      "text/plain": [
       "<Figure size 600x200 with 1 Axes>"
      ]
     },
     "metadata": {},
     "output_type": "display_data"
    }
   ],
   "source": [
    "# 3. PLOTTING AND SETTING UP A GRAPH.\n",
    "\n",
    "level_of_interest.plot(kind = 'barh', color='grey', figsize = (6,2))\n",
    "plt.title('Interest of share')\n",
    "plt.xlabel('Number of shares')\n",
    "plt.ylabel('')\n",
    "plt.tick_params(axis='x', labelsize=8)\n",
    "plt.tick_params(axis='y', labelsize=8)"
   ]
  },
  {
   "cell_type": "code",
   "execution_count": null,
   "id": "3c288807-b937-4da2-8d5f-45bf8f270993",
   "metadata": {},
   "outputs": [],
   "source": []
  }
 ],
 "metadata": {
  "kernelspec": {
   "display_name": "Python 3 (ipykernel)",
   "language": "python",
   "name": "python3"
  },
  "language_info": {
   "codemirror_mode": {
    "name": "ipython",
    "version": 3
   },
   "file_extension": ".py",
   "mimetype": "text/x-python",
   "name": "python",
   "nbconvert_exporter": "python",
   "pygments_lexer": "ipython3",
   "version": "3.12.4"
  }
 },
 "nbformat": 4,
 "nbformat_minor": 5
}
